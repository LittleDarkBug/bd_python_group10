{
 "cells": [
  {
   "cell_type": "code",
   "execution_count": null,
   "id": "initial_id",
   "metadata": {},
   "outputs": [],
   "source": [
    "import psycopg2"
   ]
  },
  {
   "cell_type": "code",
   "execution_count": 7,
   "id": "bb9b3849-3b86-4c1e-8744-faae0c3e57db",
   "metadata": {},
   "outputs": [],
   "source": [
    "conn = psycopg2.connect(\"dbname=mydb user=admin password= admin host=postgres_container port= 5432\")"
   ]
  },
  {
   "cell_type": "code",
   "execution_count": 8,
   "id": "ef0580cd-b713-4e5e-ae6b-b995700849bc",
   "metadata": {},
   "outputs": [],
   "source": [
    "cur = conn.cursor()"
   ]
  },
  {
   "cell_type": "code",
   "execution_count": 9,
   "id": "cfcea43e-e0aa-493d-b999-78e81744a18f",
   "metadata": {},
   "outputs": [
    {
     "name": "stdout",
     "output_type": "stream",
     "text": [
      "oups y a un blem\n"
     ]
    }
   ],
   "source": [
    "try:\n",
    "    cur.execute(\"CREATE TABLE Utilisateur (id serial PRIMARY KEY, nom varchar, prenom varchar, numero integer)\")\n",
    "except:\n",
    "    print(\"oups y a un blem\")\n",
    "finally:\n",
    "    conn.commit()\n",
    "    cur.close()"
   ]
  },
  {
   "cell_type": "code",
   "execution_count": 10,
   "id": "38044255-e3fa-47b8-9a45-470f53d9bc7f",
   "metadata": {},
   "outputs": [],
   "source": [
    "cur = conn.cursor()\n",
    "cur.execute(\"SELECT * from Utilisateur;\")\n",
    "conn.commit()\n",
    "one = cur.fetchone()\n",
    "cur.close()"
   ]
  },
  {
   "cell_type": "code",
   "execution_count": 12,
   "id": "3a2ce362-04f0-426e-9491-d0d607f2e831",
   "metadata": {},
   "outputs": [],
   "source": [
    "cur = conn.cursor()\n",
    "# conn.commit()\n",
    "cur.execute(\"INSERT INTO Utilisateur (id , nom, prenom, numero) VALUES (2, 'KAKO', 'Liola', 98750015), (3, 'MAMA', 'Lucla', 90054215);\")\n",
    "conn.commit()"
   ]
  },
  {
   "cell_type": "code",
   "execution_count": null,
   "id": "a18c0080-dbcc-4d46-8b19-a8e2ef862db9",
   "metadata": {},
   "outputs": [],
   "source": []
  }
 ],
 "metadata": {
  "kernelspec": {
   "display_name": "Python 3 (ipykernel)",
   "language": "python",
   "name": "python3"
  },
  "language_info": {
   "codemirror_mode": {
    "name": "ipython",
    "version": 3
   },
   "file_extension": ".py",
   "mimetype": "text/x-python",
   "name": "python",
   "nbconvert_exporter": "python",
   "pygments_lexer": "ipython3",
   "version": "3.10.15"
  }
 },
 "nbformat": 4,
 "nbformat_minor": 5
}

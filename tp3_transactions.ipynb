{
 "cells": [
  {
   "cell_type": "code",
   "execution_count": 1,
   "id": "3254b990-a49b-4251-96d4-4e5c3f95ceef",
   "metadata": {},
   "outputs": [],
   "source": [
    "import sqlite3"
   ]
  },
  {
   "cell_type": "code",
   "execution_count": 2,
   "id": "51617210-a6bc-4158-9cc3-c72f4c53133e",
   "metadata": {},
   "outputs": [],
   "source": [
    "# Connexion à la base de données SQLite\n",
    "conn = sqlite3.connect('examp5.db')\n",
    "cursor = conn.cursor()\n",
    "\n",
    "# Création de la table\n",
    "cursor.execute('''\n",
    "CREATE TABLE IF NOT EXISTS produits (\n",
    "    id INTEGER PRIMARY KEY,\n",
    "    nom TEXT,\n",
    "    stock INTEGER\n",
    ")\n",
    "''')\n",
    "\n",
    "# Initialisation des données de test\n",
    "cursor.execute(\"INSERT INTO produits (nom, stock) VALUES ('Produit A', 10)\")\n",
    "cursor.execute(\"INSERT INTO produits (nom, stock) VALUES ('Produit B', 20)\")\n",
    "conn.commit()"
   ]
  },
  {
   "cell_type": "code",
   "execution_count": 3,
   "id": "8db6432a-0777-4b66-b68b-ca6f64ef2cdd",
   "metadata": {},
   "outputs": [
    {
     "name": "stdout",
     "output_type": "stream",
     "text": [
      "Début de la transaction\n",
      "Déstockage de 5 unités pour Produit A\n",
      "Déstockage de 5 unités pour Produit B\n",
      "Simuler une erreur\n",
      "Transaction échouée: Erreur simulée\n"
     ]
    }
   ],
   "source": [
    "def transaction_avec_points_de_restauration():\n",
    "    try:\n",
    "        cursor.execute(\"BEGIN\")\n",
    "        print(\"Début de la transaction\")\n",
    "\n",
    "        # Point de restauration initial\n",
    "        cursor.execute(\"SAVEPOINT point1\")\n",
    "        cursor.execute(\"UPDATE produits SET stock = stock - 5 WHERE nom = 'Produit A'\")\n",
    "        print(\"Déstockage de 5 unités pour Produit A\")\n",
    "\n",
    "        # Point de restauration secondaire\n",
    "        cursor.execute(\"SAVEPOINT point2\")\n",
    "        cursor.execute(\"UPDATE produits SET stock = stock - 5 WHERE nom = 'Produit B'\")\n",
    "        print(\"Déstockage de 5 unités pour Produit B\")\n",
    "\n",
    "        # Simuler une erreur et retour au point de restauration initial\n",
    "        print(\"Simuler une erreur\")\n",
    "        raise Exception(\"Erreur simulée\")\n",
    "\n",
    "        # Point de restauration tertiaire\n",
    "        cursor.execute(\"SAVEPOINT point3\")\n",
    "        cursor.execute(\"UPDATE produits SET stock = stock + 25 WHERE nom = 'Produit B'\")\n",
    "        print(\"Déstockage de 5 unités pour Produit B\")\n",
    "        \n",
    "        cursor.execute(\"RELEASE SAVEPOINT point3\")\n",
    "        cursor.execute(\"RELEASE SAVEPOINT point2\")\n",
    "        cursor.execute(\"RELEASE SAVEPOINT point1\")\n",
    "        conn.commit()\n",
    "        print(\"Transaction validée\")\n",
    "\n",
    "    except Exception as e:\n",
    "        cursor.execute(\"ROLLBACK TO point2\")\n",
    "        print(f\"Transaction échouée: {e}\")\n",
    "\n",
    "# Exécution de la fonction\n",
    "transaction_avec_points_de_restauration()"
   ]
  },
  {
   "cell_type": "code",
   "execution_count": 4,
   "id": "45907c28-ba79-4906-a259-d4a866de5b07",
   "metadata": {},
   "outputs": [
    {
     "name": "stdout",
     "output_type": "stream",
     "text": [
      "Produit Produit A: Stock = 5\n",
      "Produit Produit B: Stock = 20\n",
      "Produit Produit A: Stock = 5\n",
      "Produit Produit B: Stock = 20\n",
      "Produit Produit A: Stock = 5\n",
      "Produit Produit B: Stock = 20\n"
     ]
    }
   ],
   "source": [
    "# Vérification de l'état final des stocks\n",
    "cursor.execute(\"SELECT * FROM produits\")\n",
    "produits = cursor.fetchall()\n",
    "for produit in produits:\n",
    "    print(f\"Produit {produit[1]}: Stock = {produit[2]}\")\n",
    "\n",
    "conn.close()"
   ]
  },
  {
   "cell_type": "markdown",
   "id": "ad104706-d0b4-4a60-b922-ad807c96dac4",
   "metadata": {},
   "source": [
    "#### Interprétation des résultats\n",
    "1. **Début de la transaction** :\n",
    "   - La transaction commence, et un point de restauration initial (`point1`) est défini.\n",
    "   \n",
    "2. **Premier point de restauration** :\n",
    "   - Le stock du `Produit A` est décrémenté de 5 unités et un deuxième point de restauration (`point2`) est créé.\n",
    "\n",
    "3. **Erreur simulée** :\n",
    "   - Une erreur est volontairement générée, simulant un problème dans la transaction.\n",
    "\n",
    "4. **Retour au point de restauration initial** :\n",
    "   - En raison de l'erreur, nous revenons au `point2`, annulant toutes les opérations après ce point.\n",
    "   - Le `RELEASE SAVEPOINT` permet de libérer les points de restauration qui ne sont plus nécessaires.\n",
    "\n",
    "5. **Résultat final** :\n",
    "   - Seules les opérations avant le point de restauration initial (`point2`) sont validées.\n",
    "   - L'état final des stocks montre que seul le déstockage de `Produit A` a eu lieu."
   ]
  }
 ],
 "metadata": {
  "kernelspec": {
   "display_name": "Python 3 (ipykernel)",
   "language": "python",
   "name": "python3"
  },
  "language_info": {
   "codemirror_mode": {
    "name": "ipython",
    "version": 3
   },
   "file_extension": ".py",
   "mimetype": "text/x-python",
   "name": "python",
   "nbconvert_exporter": "python",
   "pygments_lexer": "ipython3",
   "version": "3.10.16"
  }
 },
 "nbformat": 4,
 "nbformat_minor": 5
}

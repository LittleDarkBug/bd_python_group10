{
 "cells": [
  {
   "cell_type": "code",
   "execution_count": 1,
   "id": "d2875b04-3e0c-4b83-9560-27ad63e4ccf3",
   "metadata": {},
   "outputs": [],
   "source": [
    "import sqlite3\n",
    "from threading import Thread\n",
    "import time"
   ]
  },
  {
   "cell_type": "code",
   "execution_count": 2,
   "id": "afd8276c-a0e2-44d3-947e-186b8665f003",
   "metadata": {},
   "outputs": [],
   "source": [
    "# Connexion à la base de données SQLite pour l'initialisation\n",
    "init_conn = sqlite3.connect('example.db')\n",
    "init_cursor = init_conn.cursor()\n",
    "\n",
    "# Création de la table\n",
    "init_cursor.execute('''\n",
    "DROP TABLE IF  EXISTS comptes\n",
    "''')\n",
    "\n",
    "init_cursor.execute('''\n",
    "CREATE TABLE IF NOT EXISTS comptes (\n",
    "    id INTEGER PRIMARY KEY,\n",
    "    solde INTEGER\n",
    ")\n",
    "''')\n",
    "\n",
    "# Initialiser deux comptes pour le test\n",
    "init_cursor.execute(\"INSERT INTO comptes (solde) VALUES (500)\")\n",
    "init_cursor.execute(\"INSERT INTO comptes (solde) VALUES (500)\")\n",
    "init_conn.commit()\n",
    "init_conn.close()\n"
   ]
  },
  {
   "cell_type": "code",
   "execution_count": 3,
   "id": "49e4f97a-ae2a-4cf2-b4a8-b47fe9881c3c",
   "metadata": {},
   "outputs": [],
   "source": [
    "def transaction_bancaire(compte_source, compte_dest, montant):\n",
    "    # Créer une nouvelle connexion et un curseur pour ce thread\n",
    "    conn = sqlite3.connect('example.db')\n",
    "    cursor = conn.cursor()\n",
    "    \n",
    "    try:\n",
    "        cursor.execute(\"BEGIN\")\n",
    "        \n",
    "        # Récupérer le solde du compte source\n",
    "        cursor.execute(\"SELECT solde FROM comptes WHERE id = ?\", (compte_source,))\n",
    "        solde_source = cursor.fetchone()[0]\n",
    "        \n",
    "        # Vérifier si le compte source a suffisamment de fonds\n",
    "        if solde_source >= montant:\n",
    "            # Débiter le compte source\n",
    "            cursor.execute(\"UPDATE comptes SET solde = solde - ? WHERE id = ?\", (montant, compte_source))\n",
    "            # Simuler un délai pour accentuer les problèmes de concurrence\n",
    "            time.sleep(0.1)\n",
    "            # Créditer le compte destinataire\n",
    "            cursor.execute(\"UPDATE comptes SET solde = solde + ? WHERE id = ?\", (montant, compte_dest))\n",
    "        else:\n",
    "            print(f\"Compte {compte_source} n'a pas assez de fonds.\")\n",
    "        \n",
    "        conn.commit()\n",
    "        print(f\"Transféré {montant} du compte {compte_source} au compte {compte_dest}\")\n",
    "    except Exception as e:\n",
    "        conn.rollback()\n",
    "        print(f\"Transaction échouée: {e}\")\n",
    "    finally:\n",
    "        conn.close()\n"
   ]
  },
  {
   "cell_type": "code",
   "execution_count": 4,
   "id": "b3ba27f7-3799-48dd-bf3f-d513fa8e9c04",
   "metadata": {},
   "outputs": [
    {
     "name": "stdout",
     "output_type": "stream",
     "text": [
      "Transaction échouée: database is locked\n",
      "Transféré 100 du compte 1 au compte 2\n"
     ]
    }
   ],
   "source": [
    "def concurrent_transactions():\n",
    "    thread1 = Thread(target=transaction_bancaire, args=(1, 2, 100))\n",
    "    thread2 = Thread(target=transaction_bancaire, args=(1, 2, 200))\n",
    "    \n",
    "    thread1.start()\n",
    "    thread2.start()\n",
    "    \n",
    "    thread1.join()\n",
    "    thread2.join()\n",
    "\n",
    "# Appel de la fonction pour simuler les transactions concurrentes\n",
    "concurrent_transactions()"
   ]
  },
  {
   "cell_type": "code",
   "execution_count": 5,
   "id": "7a29ecc8-0283-4377-b842-3f508bd16199",
   "metadata": {},
   "outputs": [
    {
     "name": "stdout",
     "output_type": "stream",
     "text": [
      "Compte 1: Solde = 400\n",
      "Compte 2: Solde = 600\n"
     ]
    }
   ],
   "source": [
    "def verification_soldes():\n",
    "    conn = sqlite3.connect('example.db')\n",
    "    cursor = conn.cursor()\n",
    "    cursor.execute(\"SELECT * FROM comptes\")\n",
    "    comptes = cursor.fetchall()\n",
    "    for compte in comptes:\n",
    "        print(f\"Compte {compte[0]}: Solde = {compte[1]}\")\n",
    "    conn.close()\n",
    "\n",
    "# Appel de la fonction pour vérifier les soldes\n",
    "verification_soldes()"
   ]
  },
  {
   "cell_type": "markdown",
   "id": "dd0f0842-4cf5-44f8-9f10-464da8172062",
   "metadata": {},
   "source": [
    "### Interprétation des résultats\n",
    "\n",
    " **Thread 1 ou Thread 2 peut obtenir le verrou en premier** :\n",
    "   - **Thread 1** ou **Thread 2** peut obtenir le verrou pour effectuer sa transaction avant l'autre. Cela dépend de facteurs tels que l'ordre d'exécution et la gestion des verrous par le système d'exploitation et SQLite.\n",
    "\n",
    " **Transaction réussie pour le thread qui obtient le verrou** :\n",
    "   - Le thread qui obtient le verrou en premier peut effectuer ses modifications sans interruption et compléter sa transaction.\n",
    "   - **Exemple** : Si **Thread 2** obtient le verrou en premier, il transfère 200 unités du compte 1 au compte 2. Si **Thread 1** obtient le verrou en premier, il transfère 100 unités.\n",
    "\n",
    " **Échec de la transaction pour le thread qui n'obtient pas le verrou** :\n",
    "   - Le thread qui tente d'accéder à la base de données pendant que l'autre thread a verrouillé la base de données échoue avec l'erreur \"database is locked\".\n",
    "\n",
    "### Pourquoi cela s'est-il produit ?\n",
    "\n",
    "- **Ordre d'exécution et accès aux verrous** : Bien que les threads soient lancés presque simultanément, le système d'exploitation et la gestion des verrous  déterminent quel thread obtient le verrou en premier. Cela signifie qu'un thread peut obtenir le verrou et commencer sa transaction avant l'autre.\n",
    "- **Verrouillage de la base de données** : Une fois qu'un thread a obtenu le verrou, il peut effectuer ses modifications sans interruption. Le verrou empêche d'autres threads de modifier la base de données simultanément.\n",
    "- **Échec du thread concurrent** : Le thread qui n'obtient pas le verrou en premier tente d'accéder à la base de données pendant qu'elle est verrouillée, entraînant l'échec de la transaction avec l'erreur \"database is locked\"."
   ]
  },
  {
   "cell_type": "code",
   "execution_count": null,
   "id": "9c3ec197-66be-4c2b-9213-18cb4969b65b",
   "metadata": {},
   "outputs": [],
   "source": []
  }
 ],
 "metadata": {
  "kernelspec": {
   "display_name": "Python 3 (ipykernel)",
   "language": "python",
   "name": "python3"
  },
  "language_info": {
   "codemirror_mode": {
    "name": "ipython",
    "version": 3
   },
   "file_extension": ".py",
   "mimetype": "text/x-python",
   "name": "python",
   "nbconvert_exporter": "python",
   "pygments_lexer": "ipython3",
   "version": "3.10.16"
  }
 },
 "nbformat": 4,
 "nbformat_minor": 5
}

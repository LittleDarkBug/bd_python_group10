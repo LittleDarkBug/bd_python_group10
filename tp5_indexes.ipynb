{
 "cells": [
  {
   "cell_type": "code",
   "execution_count": 1,
   "id": "8dcee8a4-aee3-4a80-bca4-53e2cc9ed21d",
   "metadata": {},
   "outputs": [],
   "source": [
    "import sqlite3\n",
    "import time"
   ]
  },
  {
   "cell_type": "code",
   "execution_count": 3,
   "id": "9dc27700-43bd-421f-8e5b-c1add86d0846",
   "metadata": {},
   "outputs": [],
   "source": [
    "# Connexion à la base de données SQLite\n",
    "conn = sqlite3.connect('example_2.db')\n",
    "cursor = conn.cursor()\n",
    "\n",
    "# Création de la table\n",
    "cursor.execute('''\n",
    "CREATE TABLE IF NOT EXISTS clients (\n",
    "    id INTEGER PRIMARY KEY,\n",
    "    nom TEXT,\n",
    "    age INTEGER,\n",
    "    ville TEXT\n",
    ")\n",
    "''')\n",
    "\n",
    "# Insertion de données de test\n",
    "cursor.execute(\"INSERT INTO clients (nom, age, ville) VALUES ('Alice', 30, 'Paris');\")\n",
    "\n",
    "noms = [\"Bob\", \"Charlie\", \"David\", \"Eve\"] \n",
    "data = [(nom, age, ville) for nom in noms for age in range(20, 40, 5) for ville in [\"Paris\", \"Lyon\", \"Marseille\"]] * 20000 \n",
    "cursor.executemany(\"INSERT INTO clients (nom, age, ville) VALUES (?, ?, ?)\", data)\n",
    "\n",
    "conn.commit()"
   ]
  },
  {
   "cell_type": "code",
   "execution_count": 4,
   "id": "069c42ea-752f-4422-883c-61feeb150e03",
   "metadata": {},
   "outputs": [
    {
     "name": "stdout",
     "output_type": "stream",
     "text": [
      "Temps de requête sans index: 5.2215 secondes\n",
      "Nombre de résultats: 1\n"
     ]
    }
   ],
   "source": [
    "# Fonction pour mesurer le temps de la requête sans index\n",
    "def requete_sans_index():\n",
    "    start_time = time.time()\n",
    "    cursor.execute(\"SELECT * FROM clients WHERE nom = 'Alice'\")\n",
    "    results = cursor.fetchall()\n",
    "    end_time = time.time()\n",
    "    print(f\"Temps de requête sans index: {end_time - start_time:.4f} secondes\")\n",
    "    print(f\"Nombre de résultats: {len(results)}\")\n",
    "\n",
    "# Exécution de la fonction\n",
    "requete_sans_index()"
   ]
  },
  {
   "cell_type": "code",
   "execution_count": 5,
   "id": "858c3186-3545-40a7-91ef-77a605bcd933",
   "metadata": {},
   "outputs": [
    {
     "name": "stdout",
     "output_type": "stream",
     "text": [
      "Temps de requête avec index: 0.0111 secondes\n",
      "Nombre de résultats: 1\n"
     ]
    }
   ],
   "source": [
    "# Création de l'index\n",
    "cursor.execute(\"CREATE INDEX IF NOT EXISTS idx_nom ON clients (nom)\")\n",
    "\n",
    "# Fonction pour mesurer le temps de la requête avec index\n",
    "def requete_avec_index():\n",
    "    start_time = time.time()\n",
    "    cursor.execute(\"SELECT * FROM clients WHERE nom = 'Alice'\")\n",
    "    results = cursor.fetchall()\n",
    "    end_time = time.time()\n",
    "    print(f\"Temps de requête avec index: {end_time - start_time:.4f} secondes\")\n",
    "    print(f\"Nombre de résultats: {len(results)}\")\n",
    "\n",
    "# Exécution de la fonction\n",
    "requete_avec_index()\n",
    "\n",
    "conn.close()"
   ]
  },
  {
   "cell_type": "markdown",
   "id": "a77ecf7b-2b0e-4e0d-aa39-f8cefa95327d",
   "metadata": {},
   "source": [
    "\n",
    "1. **Requête sans index** :\n",
    "   - **Temps de requête** : Plus long.\n",
    "   - **Explication** : Sans index, la base de données doit effectuer un scan complet de la table pour trouver les enregistrements correspondants. Cela signifie qu'elle examine chaque ligne, ce qui est inefficace pour les grandes tables.\n",
    "\n",
    "2. **Requête avec index** :\n",
    "   - **Temps de requête** : Significativement plus court.\n",
    "   - **Explication** : Avec un index sur la colonne `nom`, la base de données peut utiliser une structure de données optimisée (comme un arbre B+ dans beaucoup de systèmes de bases de données) pour localiser rapidement les enregistrements correspondants sans avoir à scanner toute la table.\n",
    "\n",
    "#### Comparaison des résultats\n",
    "- **Sans index** : Le temps de requête était beaucoup plus long car la base de données devait scanner toutes les lignes de la table `clients` pour trouver celles où `nom = 'Alice'`.\n",
    "- **Avec index** : Le temps de requête a été considérablement réduit car l'index a permis d'accéder directement aux lignes correspondant à `nom = 'Alice'` sans un scan complet de la table."
   ]
  }
 ],
 "metadata": {
  "kernelspec": {
   "display_name": "Python 3 (ipykernel)",
   "language": "python",
   "name": "python3"
  },
  "language_info": {
   "codemirror_mode": {
    "name": "ipython",
    "version": 3
   },
   "file_extension": ".py",
   "mimetype": "text/x-python",
   "name": "python",
   "nbconvert_exporter": "python",
   "pygments_lexer": "ipython3",
   "version": "3.10.16"
  }
 },
 "nbformat": 4,
 "nbformat_minor": 5
}
